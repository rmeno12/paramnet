{
 "cells": [
  {
   "cell_type": "code",
   "execution_count": 1,
   "metadata": {},
   "outputs": [
    {
     "name": "stderr",
     "output_type": "stream",
     "text": [
      "/home/rmeno12/paramnet/.env/lib/python3.8/site-packages/tqdm/auto.py:22: TqdmWarning: IProgress not found. Please update jupyter and ipywidgets. See https://ipywidgets.readthedocs.io/en/stable/user_install.html\n",
      "  from .autonotebook import tqdm as notebook_tqdm\n"
     ]
    }
   ],
   "source": [
    "import torch\n",
    "import mlp_classifier\n",
    "import conv1d_classifier\n",
    "\n",
    "device = torch.device(\"cuda\" if torch.cuda.is_available() else \"cpu\")"
   ]
  },
  {
   "cell_type": "code",
   "execution_count": 2,
   "metadata": {},
   "outputs": [
    {
     "name": "stdout",
     "output_type": "stream",
     "text": [
      "MLPClassifier(\n",
      "  (seq): Sequential(\n",
      "    (0): Linear(in_features=1033, out_features=512, bias=True)\n",
      "    (1): ReLU()\n",
      "    (2): Linear(in_features=512, out_features=128, bias=True)\n",
      "    (3): ReLU()\n",
      "    (4): Linear(in_features=128, out_features=32, bias=True)\n",
      "    (5): ReLU()\n",
      "    (6): Linear(in_features=32, out_features=1, bias=True)\n",
      "  )\n",
      ")\n",
      "Conv1dClassifier(\n",
      "  (conv): Sequential(\n",
      "    (0): Conv1d(1, 4, kernel_size=(3,), stride=(1,))\n",
      "    (1): ReLU()\n",
      "    (2): MaxPool1d(kernel_size=2, stride=2, padding=0, dilation=1, ceil_mode=False)\n",
      "    (3): Conv1d(4, 16, kernel_size=(3,), stride=(1,))\n",
      "    (4): ReLU()\n",
      "    (5): MaxPool1d(kernel_size=2, stride=2, padding=0, dilation=1, ceil_mode=False)\n",
      "  )\n",
      "  (fc): Sequential(\n",
      "    (0): Linear(in_features=4096, out_features=128, bias=True)\n",
      "    (1): ReLU()\n",
      "    (2): Linear(in_features=128, out_features=1, bias=True)\n",
      "  )\n",
      ")\n"
     ]
    }
   ],
   "source": [
    "mlp = mlp_classifier.MLPClassifier(1033).to(device)\n",
    "mlp.load_state_dict(torch.load('./models/W_MLP_512_128_32__0.86.pth'))\n",
    "mlp.eval()\n",
    "print(mlp)\n",
    "\n",
    "conv = conv1d_classifier.Conv1dClassifier(1033).to(device)\n",
    "conv.load_state_dict(torch.load('./models/ahgtrackmodel3.pth'))\n",
    "conv.eval()\n",
    "print(conv)"
   ]
  },
  {
   "cell_type": "code",
   "execution_count": 5,
   "metadata": {},
   "outputs": [
    {
     "name": "stdout",
     "output_type": "stream",
     "text": [
      "Pos: 4224, Neg: 7395\n",
      "mlp got 3943 wrong, conv got 872 wrong\n"
     ]
    }
   ],
   "source": [
    "import dataset\n",
    "\n",
    "d = dataset.CurveParamClassifierDataset([\"ahgtrack2.bag\", 'ahgtrack3.bag'])\n",
    "\n",
    "mlp_wrong = []\n",
    "conv_wrong = []\n",
    "for i, (x, y) in enumerate(d):\n",
    "    x, y = x.to(device), y.to(device)\n",
    "    y_pred = torch.sigmoid(mlp(x))\n",
    "    if abs(y_pred - y) > 0.1:\n",
    "        mlp_wrong.append(i)\n",
    "\n",
    "    x, y = x.to(device)[None, :], y.to(device)\n",
    "    y_pred = torch.sigmoid(conv(x))\n",
    "    if abs(y_pred - y) > 0.1:\n",
    "        conv_wrong.append(i)\n",
    "\n",
    "\n",
    "print(f\"mlp got {len(mlp_wrong)} wrong, conv got {len(conv_wrong)} wrong\")\n"
   ]
  },
  {
   "cell_type": "code",
   "execution_count": 6,
   "metadata": {},
   "outputs": [
    {
     "name": "stdout",
     "output_type": "stream",
     "text": [
      "of those that mlp got wrong, 3907 were false negatives and 36 were false positives\n",
      "of those that conv got wrong, 402 were false negatives and 470 were false positives\n"
     ]
    }
   ],
   "source": [
    "mlp_fn = set()\n",
    "mlp_fp = set()\n",
    "for i in mlp_wrong:\n",
    "    if d[i][1] == 1:\n",
    "        mlp_fn.add(i)\n",
    "    else:\n",
    "        mlp_fp.add(i)\n",
    "\n",
    "conv_fn = set()\n",
    "conv_fp = set()\n",
    "for i in conv_wrong:\n",
    "    if d[i][1] == 1:\n",
    "        conv_fn.add(i)\n",
    "    else:\n",
    "        conv_fp.add(i)\n",
    "\n",
    "print(f\"of those that mlp got wrong, {len(mlp_fn)} were false negatives and {len(mlp_fp)} were false positives\")\n",
    "print(f\"of those that conv got wrong, {len(conv_fn)} were false negatives and {len(conv_fp)} were false positives\")"
   ]
  },
  {
   "cell_type": "code",
   "execution_count": 52,
   "metadata": {},
   "outputs": [
    {
     "name": "stdout",
     "output_type": "stream",
     "text": [
      "mlp and conv both got 16 false negatives and 70 false positives\n"
     ]
    }
   ],
   "source": [
    "shared_fn = mlp_fn.intersection(conv_fn)\n",
    "shared_fp = mlp_fp.intersection(conv_fp)\n",
    "\n",
    "print(f\"mlp and conv both got {len(shared_fn)} false negatives and {len(shared_fp)} false positives\")"
   ]
  },
  {
   "cell_type": "code",
   "execution_count": 15,
   "metadata": {},
   "outputs": [],
   "source": [
    "from matplotlib import pyplot as plt\n",
    "import numpy as np\n",
    "%matplotlib inline\n",
    "\n",
    "# the scan is a list of ranges from a lidar\n",
    "# we want to create a 2D rasterization of it\n",
    "ANGLE_MIN = -2.251474\n",
    "ANGLE_INC = 0.0043633\n",
    "def scan_to_image(scan):\n",
    "    img = np.zeros((200, 200))\n",
    "    center = np.array((100, 100))\n",
    "    for i in range(len(scan)):\n",
    "        ang = ANGLE_MIN + i * ANGLE_INC\n",
    "        x = int(center[0] + scan[i] * np.cos(ang) * 300)\n",
    "        y = int(center[1] + scan[i] * np.sin(ang) * 300)\n",
    "        if x >= 0 and x < 200 and y >= 0 and y < 200:\n",
    "            img[x, y] = 1\n",
    "    return img\n"
   ]
  },
  {
   "cell_type": "code",
   "execution_count": 16,
   "metadata": {},
   "outputs": [
    {
     "data": {
      "text/plain": [
       "<matplotlib.image.AxesImage at 0x7fd5cfe0aeb0>"
      ]
     },
     "execution_count": 16,
     "metadata": {},
     "output_type": "execute_result"
    },
    {
     "data": {
      "image/png": "[encoded data removed]",
      "text/plain": [
       "<Figure size 640x480 with 1 Axes>"
      ]
     },
     "metadata": {},
     "output_type": "display_data"
    }
   ],
   "source": [
    "# print('Should have been', d[wrong[0]][1].item())\n",
    "plt.imshow(scan_to_image(d[conv_wrong[200]][0]))"
   ]
  }
 ],
 "metadata": {
  "kernelspec": {
   "display_name": ".env",
   "language": "python",
   "name": "python3"
  },
  "language_info": {
   "codemirror_mode": {
    "name": "ipython",
    "version": 3
   },
   "file_extension": ".py",
   "mimetype": "text/x-python",
   "name": "python",
   "nbconvert_exporter": "python",
   "pygments_lexer": "ipython3",
   "version": "3.8.10"
  },
  "orig_nbformat": 4,
  "vscode": {
   "interpreter": {
    "hash": "bb615126eddadadcc20e61d1daee12f112783b38fa245c348b9b1e5d37878e04"
   }
  }
 },
 "nbformat": 4,
 "nbformat_minor": 2
}
